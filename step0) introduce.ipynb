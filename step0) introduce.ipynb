{
 "cells": [
  {
   "cell_type": "markdown",
   "metadata": {},
   "source": [
    "## Matplotlib 소개\n",
    "- 링크 : https://codetorial.net/matplotlib/index.html\n",
    "- 데이터 시각화와 2D 그래프 플롯에 사용되는 파이썬 라이브러리 이다.\n",
    "- Matplotlib를 이용하면 꺽은선, 막대 그래프, 히스토그램등 다양한 유형의 그래프를 몇 줄의 코드로 간편하게 그릴수 있다.\n",
    "- 데이터 곡선, 눈금, 범례, 제목등 다양한 그래프 구성 요소를 커스터마이즈할 수 있습니다."
   ]
  },
  {
   "cell_type": "markdown",
   "metadata": {},
   "source": [
    "![nn](./image/step0/introduce.PNG)"
   ]
  },
  {
   "cell_type": "markdown",
   "metadata": {},
   "source": []
  }
 ],
 "metadata": {
  "kernelspec": {
   "display_name": "Python 3.10.2 64-bit",
   "language": "python",
   "name": "python3"
  },
  "language_info": {
   "name": "python",
   "version": "3.10.2"
  },
  "orig_nbformat": 4,
  "vscode": {
   "interpreter": {
    "hash": "c19fa61d258bb2b35aae2ada233c33e2817c1ce895aa48acba720c6bf7cbe3cb"
   }
  }
 },
 "nbformat": 4,
 "nbformat_minor": 2
}
